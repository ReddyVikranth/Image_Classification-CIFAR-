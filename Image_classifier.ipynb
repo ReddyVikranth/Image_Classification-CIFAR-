{
 "cells": [
  {
   "cell_type": "markdown",
   "metadata": {},
   "source": [
    "#### Convolutional Neural Network (CNN) for classifying the CIFAR-10 Dataset"
   ]
  },
  {
   "cell_type": "code",
   "execution_count": 8,
   "metadata": {},
   "outputs": [],
   "source": [
    "import torch\n",
    "import torchvision\n",
    "import torch.nn as nn\n",
    "import torch.nn.functional as F\n",
    "import torchvision.transforms as transforms\n",
    "import matplotlib.pyplot as plt\n",
    "import numpy as np"
   ]
  },
  {
   "cell_type": "code",
   "execution_count": 9,
   "metadata": {},
   "outputs": [],
   "source": [
    "device = torch.device('cuda' if torch.cuda.is_available() else 'cpu')"
   ]
  },
  {
   "cell_type": "code",
   "execution_count": 92,
   "metadata": {},
   "outputs": [],
   "source": [
    "num_epochs = 1\n",
    "batch_size = 10\n",
    "learning_rate = 0.01"
   ]
  },
  {
   "cell_type": "code",
   "execution_count": 11,
   "metadata": {},
   "outputs": [],
   "source": [
    "transform = transforms.Compose(\n",
    "    [transforms.ToTensor(), transforms.Normalize([0.5, 0.5, 0.5], [1.0, 1.0, 1.0])]\n",
    ")"
   ]
  },
  {
   "cell_type": "code",
   "execution_count": 12,
   "metadata": {},
   "outputs": [
    {
     "name": "stdout",
     "output_type": "stream",
     "text": [
      "Downloading https://www.cs.toronto.edu/~kriz/cifar-10-python.tar.gz to ./datasets\\cifar-10-python.tar.gz\n"
     ]
    },
    {
     "name": "stderr",
     "output_type": "stream",
     "text": [
      "100%|██████████| 170M/170M [01:56<00:00, 1.46MB/s] \n"
     ]
    },
    {
     "name": "stdout",
     "output_type": "stream",
     "text": [
      "Extracting ./datasets\\cifar-10-python.tar.gz to ./datasets\n"
     ]
    }
   ],
   "source": [
    "train_dataset = torchvision.datasets.CIFAR10(root='./datasets', download=True, transform=transform, train=True)\n",
    "test_dataset = torchvision.datasets.CIFAR10(root='./datasets', train=False, transform=transform)\n",
    "train_loader = torch.utils.data.DataLoader(dataset=train_dataset, shuffle=True, batch_size=batch_size)\n",
    "test_loader = torch.utils.data.DataLoader(dataset=test_dataset, shuffle=False, batch_size=batch_size)"
   ]
  },
  {
   "cell_type": "code",
   "execution_count": 50,
   "metadata": {},
   "outputs": [],
   "source": [
    "classes = ('plane', 'car', 'bird', 'cat', 'deer', 'dog', 'frog', 'horse', 'ship', 'truch')"
   ]
  },
  {
   "cell_type": "code",
   "execution_count": 51,
   "metadata": {},
   "outputs": [],
   "source": [
    "class ConNeuNet(nn.Module):\n",
    "    def __init__(self):\n",
    "        super(ConNeuNet, self).__init__()\n",
    "        self.conv1 = nn.Conv2d(3, 6, 5)\n",
    "        self.pool = nn.MaxPool2d(2, 2)\n",
    "        self.conv2 = nn.Conv2d(6, 16, 5)\n",
    "        self.dense1 = nn.Linear(16*5*5, 150)\n",
    "        self.dense2 = nn.Linear(150, 100)\n",
    "        self.dense3 = nn.Linear(100, 50)\n",
    "        self.dense4 = nn.Linear(50, 10)\n",
    "\n",
    "    def forward(self, x):\n",
    "        out = self.pool(F.relu(self.conv1(x)))\n",
    "        out = self.pool(F.relu(self.conv2(out)))\n",
    "        out = out.view(-1, 16*5*5)\n",
    "        out = F.relu(self.dense1(out))\n",
    "        out = F.relu(self.dense2(out))\n",
    "        out = F.relu(self.dense3(out))\n",
    "        out = self.dense4(out)\n",
    "        return out\n",
    "        \n"
   ]
  },
  {
   "cell_type": "code",
   "execution_count": 91,
   "metadata": {},
   "outputs": [],
   "source": [
    "model = ConNeuNet().to(device)\n",
    "\n",
    "criterion = nn.CrossEntropyLoss()\n",
    "optimizer = torch.optim.SGD(model.parameters(), lr=learning_rate)"
   ]
  },
  {
   "cell_type": "code",
   "execution_count": null,
   "metadata": {},
   "outputs": [
    {
     "name": "stdout",
     "output_type": "stream",
     "text": [
      "epoch: 1, step = 10, loss = 1.1841310262680054\n",
      "epoch: 1, step = 20, loss = 2.0186545848846436\n",
      "epoch: 1, step = 30, loss = 2.1949727535247803\n",
      "epoch: 1, step = 40, loss = 1.6928982734680176\n",
      "epoch: 1, step = 50, loss = 2.9375038146972656\n",
      "epoch: 1, step = 60, loss = 1.760434865951538\n",
      "epoch: 1, step = 70, loss = 2.7317724227905273\n",
      "epoch: 1, step = 80, loss = 1.8725275993347168\n",
      "epoch: 1, step = 90, loss = 1.79835045337677\n",
      "epoch: 1, step = 100, loss = 1.9946645498275757\n",
      "epoch: 1, step = 110, loss = 1.7887320518493652\n",
      "epoch: 1, step = 120, loss = 1.0279408693313599\n",
      "epoch: 1, step = 130, loss = 2.2855825424194336\n",
      "epoch: 1, step = 140, loss = 2.2730889320373535\n",
      "epoch: 1, step = 150, loss = 1.790522575378418\n",
      "epoch: 1, step = 160, loss = 1.550828218460083\n",
      "epoch: 1, step = 170, loss = 1.328562617301941\n",
      "epoch: 1, step = 180, loss = 2.9793472290039062\n",
      "epoch: 1, step = 190, loss = 1.9463212490081787\n",
      "epoch: 1, step = 200, loss = 1.840070366859436\n",
      "epoch: 1, step = 210, loss = 1.7370672225952148\n",
      "epoch: 1, step = 220, loss = 1.3353776931762695\n",
      "epoch: 1, step = 230, loss = 2.0098929405212402\n",
      "epoch: 1, step = 240, loss = 1.4774211645126343\n",
      "epoch: 1, step = 250, loss = 2.110351085662842\n",
      "epoch: 1, step = 260, loss = 1.463866114616394\n",
      "epoch: 1, step = 270, loss = 1.3721494674682617\n",
      "epoch: 1, step = 280, loss = 2.0718069076538086\n",
      "epoch: 1, step = 290, loss = 2.0198373794555664\n",
      "epoch: 1, step = 300, loss = 1.9217652082443237\n",
      "epoch: 1, step = 310, loss = 2.63029146194458\n",
      "epoch: 1, step = 320, loss = 2.6029105186462402\n",
      "epoch: 1, step = 330, loss = 2.9212398529052734\n",
      "epoch: 1, step = 340, loss = 2.129774570465088\n",
      "epoch: 1, step = 350, loss = 1.5388846397399902\n",
      "epoch: 1, step = 360, loss = 2.933269739151001\n",
      "epoch: 1, step = 370, loss = 2.5026931762695312\n",
      "epoch: 1, step = 380, loss = 2.085833787918091\n",
      "epoch: 1, step = 390, loss = 2.659092903137207\n",
      "epoch: 1, step = 400, loss = 1.6182656288146973\n",
      "epoch: 1, step = 410, loss = 1.880751609802246\n",
      "epoch: 1, step = 420, loss = 2.032454490661621\n",
      "epoch: 1, step = 430, loss = 1.4582854509353638\n",
      "epoch: 1, step = 440, loss = 1.8363834619522095\n",
      "epoch: 1, step = 450, loss = 1.7047715187072754\n",
      "epoch: 1, step = 460, loss = 2.053860664367676\n",
      "epoch: 1, step = 470, loss = 1.2316559553146362\n",
      "epoch: 1, step = 480, loss = 3.0195822715759277\n",
      "epoch: 1, step = 490, loss = 1.4472593069076538\n",
      "epoch: 1, step = 500, loss = 2.061001777648926\n",
      "epoch: 1, step = 510, loss = 1.6045546531677246\n",
      "epoch: 1, step = 520, loss = 1.7017570734024048\n",
      "epoch: 1, step = 530, loss = 1.763747215270996\n",
      "epoch: 1, step = 540, loss = 1.589235544204712\n",
      "epoch: 1, step = 550, loss = 1.7376682758331299\n",
      "epoch: 1, step = 560, loss = 3.204166889190674\n",
      "epoch: 1, step = 570, loss = 1.235412359237671\n",
      "epoch: 1, step = 580, loss = 2.138949394226074\n",
      "epoch: 1, step = 590, loss = 1.7065292596817017\n",
      "epoch: 1, step = 600, loss = 2.0163440704345703\n",
      "epoch: 1, step = 610, loss = 2.0313894748687744\n",
      "epoch: 1, step = 620, loss = 1.811749815940857\n",
      "epoch: 1, step = 630, loss = 2.0376412868499756\n",
      "epoch: 1, step = 640, loss = 1.8589868545532227\n",
      "epoch: 1, step = 650, loss = 1.5097695589065552\n",
      "epoch: 1, step = 660, loss = 3.2142834663391113\n",
      "epoch: 1, step = 670, loss = 2.0868310928344727\n",
      "epoch: 1, step = 680, loss = 1.5959892272949219\n",
      "epoch: 1, step = 690, loss = 2.5683302879333496\n",
      "epoch: 1, step = 700, loss = 2.4806785583496094\n",
      "epoch: 1, step = 710, loss = 2.02921199798584\n",
      "epoch: 1, step = 720, loss = 2.1408164501190186\n",
      "epoch: 1, step = 730, loss = 1.705712080001831\n",
      "epoch: 1, step = 740, loss = 2.1121785640716553\n",
      "epoch: 1, step = 750, loss = 2.2775111198425293\n",
      "epoch: 1, step = 760, loss = 1.658820629119873\n",
      "epoch: 1, step = 770, loss = 1.424880027770996\n",
      "epoch: 1, step = 780, loss = 2.8018691539764404\n",
      "epoch: 1, step = 790, loss = 2.149442672729492\n",
      "epoch: 1, step = 800, loss = 1.3458917140960693\n",
      "epoch: 1, step = 810, loss = 1.5561997890472412\n",
      "epoch: 1, step = 820, loss = 2.0011391639709473\n",
      "epoch: 1, step = 830, loss = 1.5608837604522705\n",
      "epoch: 1, step = 840, loss = 1.8860136270523071\n",
      "epoch: 1, step = 850, loss = 1.6995149850845337\n",
      "epoch: 1, step = 860, loss = 1.3852014541625977\n",
      "epoch: 1, step = 870, loss = 1.4147822856903076\n",
      "epoch: 1, step = 880, loss = 2.1901679039001465\n",
      "epoch: 1, step = 890, loss = 1.3898518085479736\n",
      "epoch: 1, step = 900, loss = 1.5748329162597656\n",
      "epoch: 1, step = 910, loss = 1.9102826118469238\n",
      "epoch: 1, step = 920, loss = 1.2855745553970337\n",
      "epoch: 1, step = 930, loss = 1.846294641494751\n",
      "epoch: 1, step = 940, loss = 1.8389073610305786\n",
      "epoch: 1, step = 950, loss = 2.2614715099334717\n",
      "epoch: 1, step = 960, loss = 1.6773149967193604\n",
      "epoch: 1, step = 970, loss = 2.295376777648926\n",
      "epoch: 1, step = 980, loss = 2.0584030151367188\n",
      "epoch: 1, step = 990, loss = 2.155632257461548\n",
      "epoch: 1, step = 1000, loss = 3.2549281120300293\n",
      "epoch: 1, step = 1010, loss = 1.9584578275680542\n",
      "epoch: 1, step = 1020, loss = 2.3400440216064453\n",
      "epoch: 1, step = 1030, loss = 2.14743709564209\n",
      "epoch: 1, step = 1040, loss = 2.229482412338257\n",
      "epoch: 1, step = 1050, loss = 1.3900139331817627\n",
      "epoch: 1, step = 1060, loss = 2.512448787689209\n",
      "epoch: 1, step = 1070, loss = 1.490773320198059\n",
      "epoch: 1, step = 1080, loss = 2.190157890319824\n",
      "epoch: 1, step = 1090, loss = 1.7533783912658691\n",
      "epoch: 1, step = 1100, loss = 1.263901710510254\n",
      "epoch: 1, step = 1110, loss = 1.5796542167663574\n",
      "epoch: 1, step = 1120, loss = 1.6357791423797607\n",
      "epoch: 1, step = 1130, loss = 1.7792454957962036\n",
      "epoch: 1, step = 1140, loss = 1.834503412246704\n",
      "epoch: 1, step = 1150, loss = 1.7218859195709229\n",
      "epoch: 1, step = 1160, loss = 2.196953773498535\n",
      "epoch: 1, step = 1170, loss = 2.1629652976989746\n",
      "epoch: 1, step = 1180, loss = 2.083352565765381\n",
      "epoch: 1, step = 1190, loss = 1.8738832473754883\n",
      "epoch: 1, step = 1200, loss = 1.6458125114440918\n",
      "epoch: 1, step = 1210, loss = 1.6136095523834229\n",
      "epoch: 1, step = 1220, loss = 1.6304467916488647\n",
      "epoch: 1, step = 1230, loss = 1.2918603420257568\n",
      "epoch: 1, step = 1240, loss = 2.0502960681915283\n",
      "epoch: 1, step = 1250, loss = 0.9573028087615967\n",
      "epoch: 1, step = 1260, loss = 2.366694450378418\n",
      "epoch: 1, step = 1270, loss = 1.756435751914978\n",
      "epoch: 1, step = 1280, loss = 1.363938331604004\n",
      "epoch: 1, step = 1290, loss = 1.7319697141647339\n",
      "epoch: 1, step = 1300, loss = 1.7363190650939941\n",
      "epoch: 1, step = 1310, loss = 2.9787867069244385\n",
      "epoch: 1, step = 1320, loss = 1.2771477699279785\n",
      "epoch: 1, step = 1330, loss = 1.661012887954712\n",
      "epoch: 1, step = 1340, loss = 2.0967986583709717\n",
      "epoch: 1, step = 1350, loss = 1.7760738134384155\n",
      "epoch: 1, step = 1360, loss = 2.076655626296997\n",
      "epoch: 1, step = 1370, loss = 1.5525866746902466\n",
      "epoch: 1, step = 1380, loss = 2.13779878616333\n",
      "epoch: 1, step = 1390, loss = 2.5178427696228027\n",
      "epoch: 1, step = 1400, loss = 1.5007047653198242\n",
      "epoch: 1, step = 1410, loss = 1.6237528324127197\n",
      "epoch: 1, step = 1420, loss = 1.7255280017852783\n",
      "epoch: 1, step = 1430, loss = 1.8078796863555908\n",
      "epoch: 1, step = 1440, loss = 2.5881500244140625\n",
      "epoch: 1, step = 1450, loss = 1.6044679880142212\n",
      "epoch: 1, step = 1460, loss = 1.3863580226898193\n",
      "epoch: 1, step = 1470, loss = 2.6299350261688232\n",
      "epoch: 1, step = 1480, loss = 1.4062654972076416\n",
      "epoch: 1, step = 1490, loss = 1.8161048889160156\n",
      "epoch: 1, step = 1500, loss = 2.0916004180908203\n",
      "epoch: 1, step = 1510, loss = 2.8503823280334473\n",
      "epoch: 1, step = 1520, loss = 2.2839572429656982\n",
      "epoch: 1, step = 1530, loss = 2.7817928791046143\n",
      "epoch: 1, step = 1540, loss = 1.8411325216293335\n",
      "epoch: 1, step = 1550, loss = 1.8952113389968872\n",
      "epoch: 1, step = 1560, loss = 1.678678035736084\n",
      "epoch: 1, step = 1570, loss = 2.0886096954345703\n",
      "epoch: 1, step = 1580, loss = 1.7813677787780762\n",
      "epoch: 1, step = 1590, loss = 1.9766814708709717\n",
      "epoch: 1, step = 1600, loss = 3.0989863872528076\n",
      "epoch: 1, step = 1610, loss = 1.9579136371612549\n",
      "epoch: 1, step = 1620, loss = 2.213629961013794\n",
      "epoch: 1, step = 1630, loss = 1.678078055381775\n",
      "epoch: 1, step = 1640, loss = 1.5121554136276245\n",
      "epoch: 1, step = 1650, loss = 1.8399848937988281\n",
      "epoch: 1, step = 1660, loss = 1.5943260192871094\n",
      "epoch: 1, step = 1670, loss = 1.4869906902313232\n",
      "epoch: 1, step = 1680, loss = 1.801145076751709\n",
      "epoch: 1, step = 1690, loss = 1.6375128030776978\n",
      "epoch: 1, step = 1700, loss = 1.8251382112503052\n",
      "epoch: 1, step = 1710, loss = 2.1853041648864746\n",
      "epoch: 1, step = 1720, loss = 2.1533799171447754\n",
      "epoch: 1, step = 1730, loss = 1.5563642978668213\n",
      "epoch: 1, step = 1740, loss = 1.8305175304412842\n"
     ]
    }
   ],
   "source": [
    "n_total_steps = len(train_loader)\n",
    "for epoch in range(num_epochs):\n",
    "    for index, (images, labels) in enumerate(train_loader):\n",
    "        images = images.to(device)\n",
    "        labels = labels.to(device)\n",
    "\n",
    "        output = model(images)\n",
    "        loss = criterion(output, labels)\n",
    "        loss.backward()\n",
    "        optimizer.step()\n",
    "        optimizer.zero_grad()\n",
    "\n",
    "        if (index + 1) % 1000 == 0:\n",
    "            print(f'epoch: {epoch + 1}, step = {index+1}, loss = {loss}')\n",
    "            "
   ]
  },
  {
   "cell_type": "code",
   "execution_count": 98,
   "metadata": {},
   "outputs": [
    {
     "name": "stdout",
     "output_type": "stream",
     "text": [
      "accuracy : 28.27\n"
     ]
    }
   ],
   "source": [
    "correct = 0\n",
    "total = 0\n",
    "for index, (images, labels) in enumerate(test_loader):\n",
    "    images = images.to(device)\n",
    "    labels = labels.to(device)\n",
    "    predictions = model(images)\n",
    "    _, predictions = torch.max(predictions, dim=1)\n",
    "    total += len(predictions)\n",
    "    correct += (predictions == labels).sum().item()\n",
    "print(f'accuracy : {correct / total * 100}')"
   ]
  }
 ],
 "metadata": {
  "kernelspec": {
   "display_name": "Python 3",
   "language": "python",
   "name": "python3"
  },
  "language_info": {
   "codemirror_mode": {
    "name": "ipython",
    "version": 3
   },
   "file_extension": ".py",
   "mimetype": "text/x-python",
   "name": "python",
   "nbconvert_exporter": "python",
   "pygments_lexer": "ipython3",
   "version": "3.12.4"
  }
 },
 "nbformat": 4,
 "nbformat_minor": 2
}
